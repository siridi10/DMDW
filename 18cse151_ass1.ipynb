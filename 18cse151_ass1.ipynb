{
  "nbformat": 4,
  "nbformat_minor": 0,
  "metadata": {
    "colab": {
      "name": "18cse151_ass1.ipynb",
      "provenance": [],
      "collapsed_sections": []
    },
    "kernelspec": {
      "name": "python3",
      "display_name": "Python 3"
    }
  },
  "cells": [
    {
      "cell_type": "markdown",
      "metadata": {
        "id": "s8bbyq5iLMl9"
      },
      "source": [
        "## Finding mean without using any **Functions**"
      ]
    },
    {
      "cell_type": "code",
      "metadata": {
        "id": "FGVyebEsZ98i",
        "outputId": "d623fdd1-9915-4aad-d3d9-3693e70b6e09",
        "colab": {
          "base_uri": "https://localhost:8080/",
          "height": 85
        }
      },
      "source": [
        "numbers=[1,4,6,5,7,8,9,10,14,4,5,25]\n",
        "\n",
        "mean=sum(numbers)/len(numbers)\n",
        "print(mean)\n",
        "\n",
        "#median\n",
        "a=sorted(numbers)\n",
        "median=[len(numbers)//2]\n",
        "print(a)\n",
        "print(median)\n",
        "\n",
        "#mode\n",
        "mode=max(numbers,key=numbers.count)\n",
        "print(mode)"
      ],
      "execution_count": null,
      "outputs": [
        {
          "output_type": "stream",
          "text": [
            "8.166666666666666\n",
            "[1, 4, 4, 5, 5, 6, 7, 8, 9, 10, 14, 25]\n",
            "[6]\n",
            "4\n"
          ],
          "name": "stdout"
        }
      ]
    },
    {
      "cell_type": "markdown",
      "metadata": {
        "id": "B9Jl4MT_LyYf"
      },
      "source": [
        "Finding mean,median and mode using **Functions**"
      ]
    },
    {
      "cell_type": "code",
      "metadata": {
        "id": "XPeXl69GMCNc",
        "outputId": "28bff9e4-cda5-4234-8542-3635a758ef4d",
        "colab": {
          "base_uri": "https://localhost:8080/",
          "height": 68
        }
      },
      "source": [
        "import numpy\n",
        "from scipy import stats\n",
        "\n",
        "#mean\n",
        "a = [1,4,6,5,7,8,9,10,14,4,5,25]\n",
        "x = numpy.mean(a)\n",
        "print(x)\n",
        "\n",
        "#median\n",
        "y=numpy.median(a)\n",
        "print(y)\n",
        "\n",
        "#mode\n",
        "z=stats.mode(a)\n",
        "print(z)"
      ],
      "execution_count": null,
      "outputs": [
        {
          "output_type": "stream",
          "text": [
            "8.166666666666666\n",
            "6.5\n",
            "ModeResult(mode=array([4]), count=array([2]))\n"
          ],
          "name": "stdout"
        }
      ]
    }
  ]
}