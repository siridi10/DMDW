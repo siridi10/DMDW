{
  "nbformat": 4,
  "nbformat_minor": 0,
  "metadata": {
    "colab": {
      "name": "18cse151_assig6.ipynb",
      "provenance": []
    },
    "kernelspec": {
      "name": "python3",
      "display_name": "Python 3"
    }
  },
  "cells": [
    {
      "cell_type": "code",
      "metadata": {
        "id": "qrImQEUpHbzZ"
      },
      "source": [
        "import pandas as pd\n",
        "import numpy as np\n",
        "import matplotlib.pyplot as plt\n",
        "import seaborn as sbs\n",
        "get_ipython().run_line_magic('matplotlib','inline')\n",
        "plt.style.use('seaborn-whitegrid')"
      ],
      "execution_count": null,
      "outputs": []
    },
    {
      "cell_type": "code",
      "metadata": {
        "colab": {
          "base_uri": "https://localhost:8080/",
          "height": 204
        },
        "id": "SZlIi4DPL9kX",
        "outputId": "0d542377-376e-4984-d416-222d90d72ad3"
      },
      "source": [
        "url=\"https://raw.githubusercontent.com/Anasuya-Sahoo/DMDW-Lab/main/student-mat.csv\"\n",
        "df=pd.read_csv(url,sep=',')\n",
        "dfn=df[['traveltime','studytime']]\n",
        "dfn.head()"
      ],
      "execution_count": null,
      "outputs": [
        {
          "output_type": "execute_result",
          "data": {
            "text/html": [
              "<div>\n",
              "<style scoped>\n",
              "    .dataframe tbody tr th:only-of-type {\n",
              "        vertical-align: middle;\n",
              "    }\n",
              "\n",
              "    .dataframe tbody tr th {\n",
              "        vertical-align: top;\n",
              "    }\n",
              "\n",
              "    .dataframe thead th {\n",
              "        text-align: right;\n",
              "    }\n",
              "</style>\n",
              "<table border=\"1\" class=\"dataframe\">\n",
              "  <thead>\n",
              "    <tr style=\"text-align: right;\">\n",
              "      <th></th>\n",
              "      <th>traveltime</th>\n",
              "      <th>studytime</th>\n",
              "    </tr>\n",
              "  </thead>\n",
              "  <tbody>\n",
              "    <tr>\n",
              "      <th>0</th>\n",
              "      <td>2</td>\n",
              "      <td>2</td>\n",
              "    </tr>\n",
              "    <tr>\n",
              "      <th>1</th>\n",
              "      <td>1</td>\n",
              "      <td>2</td>\n",
              "    </tr>\n",
              "    <tr>\n",
              "      <th>2</th>\n",
              "      <td>1</td>\n",
              "      <td>2</td>\n",
              "    </tr>\n",
              "    <tr>\n",
              "      <th>3</th>\n",
              "      <td>1</td>\n",
              "      <td>3</td>\n",
              "    </tr>\n",
              "    <tr>\n",
              "      <th>4</th>\n",
              "      <td>1</td>\n",
              "      <td>2</td>\n",
              "    </tr>\n",
              "  </tbody>\n",
              "</table>\n",
              "</div>"
            ],
            "text/plain": [
              "   traveltime  studytime\n",
              "0           2          2\n",
              "1           1          2\n",
              "2           1          2\n",
              "3           1          3\n",
              "4           1          2"
            ]
          },
          "metadata": {
            "tags": []
          },
          "execution_count": 4
        }
      ]
    },
    {
      "cell_type": "code",
      "metadata": {
        "colab": {
          "base_uri": "https://localhost:8080/",
          "height": 331
        },
        "id": "xwY9g7jeM1GV",
        "outputId": "0c6c85a5-e2ed-4fe3-be3b-c7c69f34c504"
      },
      "source": [
        "x=dfn['traveltime']\n",
        "y=dfn['studytime']\n",
        "sbs.lineplot(x,y,dashes=True)\n",
        "plt.show()"
      ],
      "execution_count": null,
      "outputs": [
        {
          "output_type": "stream",
          "text": [
            "/usr/local/lib/python3.6/dist-packages/seaborn/_decorators.py:43: FutureWarning: Pass the following variables as keyword args: x, y. From version 0.12, the only valid positional argument will be `data`, and passing other arguments without an explicit keyword will result in an error or misinterpretation.\n",
            "  FutureWarning\n"
          ],
          "name": "stderr"
        },
        {
          "output_type": "display_data",
          "data": {
            "image/png": "[encoded data removed]",
            "text/plain": [
              "<Figure size 432x288 with 1 Axes>"
            ]
          },
          "metadata": {
            "tags": []
          }
        }
      ]
    },
    {
      "cell_type": "code",
      "metadata": {
        "id": "Hdt1t_6VM23P"
      },
      "source": [
        "from scipy.stats import norm"
      ],
      "execution_count": null,
      "outputs": []
    },
    {
      "cell_type": "markdown",
      "metadata": {
        "id": "axQLMG-HNw7U"
      },
      "source": [
        "Corelation Analysis"
      ]
    },
    {
      "cell_type": "code",
      "metadata": {
        "colab": {
          "base_uri": "https://localhost:8080/",
          "height": 317
        },
        "id": "G0vSEYB9N3QT",
        "outputId": "c9ff5f9d-b833-4d5e-a9a7-ed170a0dfea0"
      },
      "source": [
        "corelation=dfn.corr()\n",
        "print(corelation)\n",
        "sbs.heatmap(corelation,cmap=\"YlGnBu\")\n",
        "plt.show()"
      ],
      "execution_count": null,
      "outputs": [
        {
          "output_type": "stream",
          "text": [
            "            traveltime  studytime\n",
            "traveltime    1.000000  -0.100909\n",
            "studytime    -0.100909   1.000000\n"
          ],
          "name": "stdout"
        },
        {
          "output_type": "display_data",
          "data": {
            "image/png": "[encoded data removed]",
            "text/plain": [
              "<Figure size 432x288 with 2 Axes>"
            ]
          },
          "metadata": {
            "tags": []
          }
        }
      ]
    },
    {
      "cell_type": "markdown",
      "metadata": {
        "id": "n48v4vTtN_eb"
      },
      "source": [
        "Covariance Analysis"
      ]
    },
    {
      "cell_type": "code",
      "metadata": {
        "colab": {
          "base_uri": "https://localhost:8080/",
          "height": 316
        },
        "id": "jCmeoFuZN_Kx",
        "outputId": "1e5a9d04-80fb-4920-fa8f-39804e8bbfe3"
      },
      "source": [
        "covar=dfn.cov()\n",
        "print(covar)\n",
        "sbs.heatmap(covar,cmap='BuGn_r')\n",
        "plt.show()"
      ],
      "execution_count": null,
      "outputs": [
        {
          "output_type": "stream",
          "text": [
            "            traveltime  studytime\n",
            "traveltime    0.486513  -0.059070\n",
            "studytime    -0.059070   0.704324\n"
          ],
          "name": "stdout"
        },
        {
          "output_type": "display_data",
          "data": {
            "image/png": "[encoded data removed]",
            "text/plain": [
              "<Figure size 432x288 with 2 Axes>"
            ]
          },
          "metadata": {
            "tags": []
          }
        }
      ]
    },
    {
      "cell_type": "markdown",
      "metadata": {
        "id": "d8VfiaB3ONxv"
      },
      "source": [
        "Chi-Square"
      ]
    },
    {
      "cell_type": "code",
      "metadata": {
        "colab": {
          "base_uri": "https://localhost:8080/",
          "height": 224
        },
        "id": "s-fosOXNOPmX",
        "outputId": "d1bf1927-2e99-43a6-976d-7d886769c573"
      },
      "source": [
        "df.head()"
      ],
      "execution_count": null,
      "outputs": [
        {
          "output_type": "execute_result",
          "data": {
            "text/html": [
              "<div>\n",
              "<style scoped>\n",
              "    .dataframe tbody tr th:only-of-type {\n",
              "        vertical-align: middle;\n",
              "    }\n",
              "\n",
              "    .dataframe tbody tr th {\n",
              "        vertical-align: top;\n",
              "    }\n",
              "\n",
              "    .dataframe thead th {\n",
              "        text-align: right;\n",
              "    }\n",
              "</style>\n",
              "<table border=\"1\" class=\"dataframe\">\n",
              "  <thead>\n",
              "    <tr style=\"text-align: right;\">\n",
              "      <th></th>\n",
              "      <th>school</th>\n",
              "      <th>sex</th>\n",
              "      <th>age</th>\n",
              "      <th>address</th>\n",
              "      <th>famsize</th>\n",
              "      <th>Pstatus</th>\n",
              "      <th>Medu</th>\n",
              "      <th>Fedu</th>\n",
              "      <th>Mjob</th>\n",
              "      <th>Fjob</th>\n",
              "      <th>reason</th>\n",
              "      <th>guardian</th>\n",
              "      <th>traveltime</th>\n",
              "      <th>studytime</th>\n",
              "      <th>failures</th>\n",
              "      <th>schoolsup</th>\n",
              "      <th>famsup</th>\n",
              "      <th>paid</th>\n",
              "      <th>activities</th>\n",
              "      <th>nursery</th>\n",
              "      <th>higher</th>\n",
              "      <th>internet</th>\n",
              "      <th>romantic</th>\n",
              "      <th>famrel</th>\n",
              "      <th>freetime</th>\n",
              "      <th>goout</th>\n",
              "      <th>Dalc</th>\n",
              "      <th>Walc</th>\n",
              "      <th>health</th>\n",
              "      <th>absences</th>\n",
              "      <th>G1</th>\n",
              "      <th>G2</th>\n",
              "      <th>G3</th>\n",
              "    </tr>\n",
              "  </thead>\n",
              "  <tbody>\n",
              "    <tr>\n",
              "      <th>0</th>\n",
              "      <td>GP</td>\n",
              "      <td>F</td>\n",
              "      <td>18</td>\n",
              "      <td>U</td>\n",
              "      <td>GT3</td>\n",
              "      <td>A</td>\n",
              "      <td>4</td>\n",
              "      <td>4</td>\n",
              "      <td>at_home</td>\n",
              "      <td>teacher</td>\n",
              "      <td>course</td>\n",
              "      <td>mother</td>\n",
              "      <td>2</td>\n",
              "      <td>2</td>\n",
              "      <td>0</td>\n",
              "      <td>yes</td>\n",
              "      <td>no</td>\n",
              "      <td>no</td>\n",
              "      <td>no</td>\n",
              "      <td>yes</td>\n",
              "      <td>yes</td>\n",
              "      <td>no</td>\n",
              "      <td>no</td>\n",
              "      <td>4</td>\n",
              "      <td>3</td>\n",
              "      <td>4</td>\n",
              "      <td>1</td>\n",
              "      <td>1</td>\n",
              "      <td>3</td>\n",
              "      <td>6</td>\n",
              "      <td>5</td>\n",
              "      <td>6</td>\n",
              "      <td>6</td>\n",
              "    </tr>\n",
              "    <tr>\n",
              "      <th>1</th>\n",
              "      <td>GP</td>\n",
              "      <td>F</td>\n",
              "      <td>17</td>\n",
              "      <td>U</td>\n",
              "      <td>GT3</td>\n",
              "      <td>T</td>\n",
              "      <td>1</td>\n",
              "      <td>1</td>\n",
              "      <td>at_home</td>\n",
              "      <td>other</td>\n",
              "      <td>course</td>\n",
              "      <td>father</td>\n",
              "      <td>1</td>\n",
              "      <td>2</td>\n",
              "      <td>0</td>\n",
              "      <td>no</td>\n",
              "      <td>yes</td>\n",
              "      <td>no</td>\n",
              "      <td>no</td>\n",
              "      <td>no</td>\n",
              "      <td>yes</td>\n",
              "      <td>yes</td>\n",
              "      <td>no</td>\n",
              "      <td>5</td>\n",
              "      <td>3</td>\n",
              "      <td>3</td>\n",
              "      <td>1</td>\n",
              "      <td>1</td>\n",
              "      <td>3</td>\n",
              "      <td>4</td>\n",
              "      <td>5</td>\n",
              "      <td>5</td>\n",
              "      <td>6</td>\n",
              "    </tr>\n",
              "    <tr>\n",
              "      <th>2</th>\n",
              "      <td>GP</td>\n",
              "      <td>F</td>\n",
              "      <td>15</td>\n",
              "      <td>U</td>\n",
              "      <td>LE3</td>\n",
              "      <td>T</td>\n",
              "      <td>1</td>\n",
              "      <td>1</td>\n",
              "      <td>at_home</td>\n",
              "      <td>other</td>\n",
              "      <td>other</td>\n",
              "      <td>mother</td>\n",
              "      <td>1</td>\n",
              "      <td>2</td>\n",
              "      <td>3</td>\n",
              "      <td>yes</td>\n",
              "      <td>no</td>\n",
              "      <td>yes</td>\n",
              "      <td>no</td>\n",
              "      <td>yes</td>\n",
              "      <td>yes</td>\n",
              "      <td>yes</td>\n",
              "      <td>no</td>\n",
              "      <td>4</td>\n",
              "      <td>3</td>\n",
              "      <td>2</td>\n",
              "      <td>2</td>\n",
              "      <td>3</td>\n",
              "      <td>3</td>\n",
              "      <td>10</td>\n",
              "      <td>7</td>\n",
              "      <td>8</td>\n",
              "      <td>10</td>\n",
              "    </tr>\n",
              "    <tr>\n",
              "      <th>3</th>\n",
              "      <td>GP</td>\n",
              "      <td>F</td>\n",
              "      <td>15</td>\n",
              "      <td>U</td>\n",
              "      <td>GT3</td>\n",
              "      <td>T</td>\n",
              "      <td>4</td>\n",
              "      <td>2</td>\n",
              "      <td>health</td>\n",
              "      <td>services</td>\n",
              "      <td>home</td>\n",
              "      <td>mother</td>\n",
              "      <td>1</td>\n",
              "      <td>3</td>\n",
              "      <td>0</td>\n",
              "      <td>no</td>\n",
              "      <td>yes</td>\n",
              "      <td>yes</td>\n",
              "      <td>yes</td>\n",
              "      <td>yes</td>\n",
              "      <td>yes</td>\n",
              "      <td>yes</td>\n",
              "      <td>yes</td>\n",
              "      <td>3</td>\n",
              "      <td>2</td>\n",
              "      <td>2</td>\n",
              "      <td>1</td>\n",
              "      <td>1</td>\n",
              "      <td>5</td>\n",
              "      <td>2</td>\n",
              "      <td>15</td>\n",
              "      <td>14</td>\n",
              "      <td>15</td>\n",
              "    </tr>\n",
              "    <tr>\n",
              "      <th>4</th>\n",
              "      <td>GP</td>\n",
              "      <td>F</td>\n",
              "      <td>16</td>\n",
              "      <td>U</td>\n",
              "      <td>GT3</td>\n",
              "      <td>T</td>\n",
              "      <td>3</td>\n",
              "      <td>3</td>\n",
              "      <td>other</td>\n",
              "      <td>other</td>\n",
              "      <td>home</td>\n",
              "      <td>father</td>\n",
              "      <td>1</td>\n",
              "      <td>2</td>\n",
              "      <td>0</td>\n",
              "      <td>no</td>\n",
              "      <td>yes</td>\n",
              "      <td>yes</td>\n",
              "      <td>no</td>\n",
              "      <td>yes</td>\n",
              "      <td>yes</td>\n",
              "      <td>no</td>\n",
              "      <td>no</td>\n",
              "      <td>4</td>\n",
              "      <td>3</td>\n",
              "      <td>2</td>\n",
              "      <td>1</td>\n",
              "      <td>2</td>\n",
              "      <td>5</td>\n",
              "      <td>4</td>\n",
              "      <td>6</td>\n",
              "      <td>10</td>\n",
              "      <td>10</td>\n",
              "    </tr>\n",
              "  </tbody>\n",
              "</table>\n",
              "</div>"
            ],
            "text/plain": [
              "  school sex  age address famsize Pstatus  ...  Walc  health absences  G1  G2  G3\n",
              "0     GP   F   18       U     GT3       A  ...     1       3        6   5   6   6\n",
              "1     GP   F   17       U     GT3       T  ...     1       3        4   5   5   6\n",
              "2     GP   F   15       U     LE3       T  ...     3       3       10   7   8  10\n",
              "3     GP   F   15       U     GT3       T  ...     1       5        2  15  14  15\n",
              "4     GP   F   16       U     GT3       T  ...     2       5        4   6  10  10\n",
              "\n",
              "[5 rows x 33 columns]"
            ]
          },
          "metadata": {
            "tags": []
          },
          "execution_count": 27
        }
      ]
    },
    {
      "cell_type": "code",
      "metadata": {
        "colab": {
          "base_uri": "https://localhost:8080/"
        },
        "id": "iybsCfLOPNLA",
        "outputId": "38752324-1616-433e-b2ff-5a687ef24cea"
      },
      "source": [
        "dfnom=df[['Mjob','Fjob']]\n",
        "dfnom.head()\n",
        "dfnom=dfnom.replace('at_home','home')\n",
        "dfnom=dfnom.astype('category')\n",
        "dfnom.info()"
      ],
      "execution_count": null,
      "outputs": [
        {
          "output_type": "stream",
          "text": [
            "<class 'pandas.core.frame.DataFrame'>\n",
            "RangeIndex: 395 entries, 0 to 394\n",
            "Data columns (total 2 columns):\n",
            " #   Column  Non-Null Count  Dtype   \n",
            "---  ------  --------------  -----   \n",
            " 0   Mjob    395 non-null    category\n",
            " 1   Fjob    395 non-null    category\n",
            "dtypes: category(2)\n",
            "memory usage: 1.3 KB\n"
          ],
          "name": "stdout"
        }
      ]
    },
    {
      "cell_type": "code",
      "metadata": {
        "id": "UsF5Y29OP0EU"
      },
      "source": [
        "from sklearn.preprocessing import LabelEncoder\n",
        "lb=LabelEncoder()\n",
        "dfnom['Mjob']=lb.fit_transform(dfnom['Mjob'])\n",
        "dfnom['Fjob']=lb.fit_transform(dfnom['Fjob'])\n",
        "dfnom=np.array(dfnom)\n",
        "dfnom=dfnom[dfnom!=0]"
      ],
      "execution_count": null,
      "outputs": []
    },
    {
      "cell_type": "code",
      "metadata": {
        "colab": {
          "base_uri": "https://localhost:8080/"
        },
        "id": "ETc4r0t_QmAc",
        "outputId": "7c19413f-63eb-41f8-bbe3-d4fc5353841f"
      },
      "source": [
        "from scipy.stats import chi2_contingency\n",
        "stat,p,dof,expected=chi2_contingency(dfnom)\n",
        "print(stat)\n",
        "print(p)\n",
        "print(dof)\n",
        "print(expected.shape)"
      ],
      "execution_count": null,
      "outputs": [
        {
          "output_type": "stream",
          "text": [
            "0.0\n",
            "1.0\n",
            "0\n",
            "(738,)\n"
          ],
          "name": "stdout"
        }
      ]
    },
    {
      "cell_type": "markdown",
      "metadata": {
        "id": "tW6S7XiVRnnD"
      },
      "source": [
        "# Normalization"
      ]
    },
    {
      "cell_type": "code",
      "metadata": {
        "id": "oBjKo_mzRrS2"
      },
      "source": [
        "import pandas as pd\n",
        "import numpy as np\n",
        "import matplotlib.pyplot as plt\n",
        "import seaborn as sbs\n",
        "%matplotlib inline"
      ],
      "execution_count": null,
      "outputs": []
    },
    {
      "cell_type": "code",
      "metadata": {
        "id": "BhnFQhdmR1Qv"
      },
      "source": [
        "url=\"https://raw.githubusercontent.com/Anasuya-Sahoo/DMDW-Lab/main/student-mat.csv\"\n",
        "df=pd.read_csv(url,sep=',')"
      ],
      "execution_count": null,
      "outputs": []
    },
    {
      "cell_type": "markdown",
      "metadata": {
        "id": "0w8bzig6SPfK"
      },
      "source": [
        "Normalization for Age"
      ]
    },
    {
      "cell_type": "code",
      "metadata": {
        "colab": {
          "base_uri": "https://localhost:8080/"
        },
        "id": "hoMCNFhhR4Zj",
        "outputId": "eb2bce37-3e53-41a4-bde1-efbdb749eb34"
      },
      "source": [
        "age=np.array(df['age'])\n",
        "print('MAX AGE',max(age))\n",
        "print('MIN AGE',min(age))\n",
        "age=age.reshape(395,1)"
      ],
      "execution_count": null,
      "outputs": [
        {
          "output_type": "stream",
          "text": [
            "MAX AGE 22\n",
            "MIN AGE 15\n"
          ],
          "name": "stdout"
        }
      ]
    },
    {
      "cell_type": "markdown",
      "metadata": {
        "id": "VpofWlaFSdFq"
      },
      "source": [
        "Z-Score Normalization"
      ]
    },
    {
      "cell_type": "code",
      "metadata": {
        "colab": {
          "base_uri": "https://localhost:8080/"
        },
        "id": "Xu92NbpmSf_j",
        "outputId": "7cb74b90-a4ac-4ed1-c415-9c95509a70ed"
      },
      "source": [
        "from scipy import stats\n",
        "zscore=np.array(stats.zscore(age))\n",
        "zscore=zscore[0:394]\n",
        "zscore=zscore.reshape(2,197)\n",
        "zscore"
      ],
      "execution_count": null,
      "outputs": [
        {
          "output_type": "execute_result",
          "data": {
            "text/plain": [
              "array([[ 1.02304645,  0.23837976, -1.33095364, -1.33095364, -0.54628694,\n",
              "        -0.54628694, -0.54628694,  0.23837976, -1.33095364, -1.33095364,\n",
              "        -1.33095364, -1.33095364, -1.33095364, -1.33095364, -1.33095364,\n",
              "        -0.54628694, -0.54628694, -0.54628694,  0.23837976, -0.54628694,\n",
              "        -1.33095364, -1.33095364, -0.54628694, -0.54628694, -1.33095364,\n",
              "        -0.54628694, -1.33095364, -1.33095364, -0.54628694, -0.54628694,\n",
              "        -1.33095364, -1.33095364, -1.33095364, -1.33095364, -0.54628694,\n",
              "        -1.33095364, -1.33095364, -0.54628694, -1.33095364, -1.33095364,\n",
              "        -0.54628694, -1.33095364, -1.33095364, -1.33095364, -0.54628694,\n",
              "        -1.33095364, -0.54628694, -0.54628694, -1.33095364, -1.33095364,\n",
              "        -0.54628694, -1.33095364, -1.33095364, -1.33095364, -1.33095364,\n",
              "        -0.54628694, -1.33095364, -1.33095364, -1.33095364, -0.54628694,\n",
              "        -0.54628694, -0.54628694, -0.54628694, -0.54628694, -1.33095364,\n",
              "        -0.54628694, -1.33095364, -0.54628694, -1.33095364, -1.33095364,\n",
              "        -0.54628694, -1.33095364, -1.33095364, -0.54628694, -0.54628694,\n",
              "        -1.33095364, -1.33095364, -0.54628694,  0.23837976, -0.54628694,\n",
              "        -1.33095364, -1.33095364, -1.33095364, -1.33095364, -1.33095364,\n",
              "        -1.33095364, -0.54628694, -1.33095364, -0.54628694, -0.54628694,\n",
              "        -0.54628694, -1.33095364, -0.54628694, -0.54628694, -1.33095364,\n",
              "        -1.33095364, -0.54628694, -0.54628694, -0.54628694, -0.54628694,\n",
              "        -0.54628694, -0.54628694, -1.33095364, -1.33095364, -1.33095364,\n",
              "        -1.33095364, -1.33095364, -0.54628694, -1.33095364, -0.54628694,\n",
              "        -1.33095364, -0.54628694, -0.54628694, -1.33095364, -1.33095364,\n",
              "        -0.54628694, -1.33095364, -0.54628694,  0.23837976, -1.33095364,\n",
              "        -1.33095364, -1.33095364, -0.54628694, -0.54628694, -0.54628694,\n",
              "        -1.33095364, -1.33095364,  1.80771315,  1.02304645, -0.54628694,\n",
              "        -1.33095364, -1.33095364,  0.23837976, -0.54628694, -1.33095364,\n",
              "        -1.33095364,  0.23837976, -0.54628694, -0.54628694, -1.33095364,\n",
              "        -1.33095364, -0.54628694, -1.33095364, -0.54628694,  0.23837976,\n",
              "        -1.33095364, -1.33095364, -1.33095364, -0.54628694, -1.33095364,\n",
              "         1.02304645, -0.54628694, -1.33095364,  1.80771315,  0.23837976,\n",
              "        -1.33095364,  0.23837976,  1.02304645, -0.54628694, -0.54628694,\n",
              "         0.23837976, -1.33095364, -0.54628694,  0.23837976,  0.23837976,\n",
              "        -0.54628694, -0.54628694, -0.54628694, -0.54628694, -0.54628694,\n",
              "        -0.54628694, -0.54628694,  0.23837976, -0.54628694, -0.54628694,\n",
              "         0.23837976, -0.54628694,  0.23837976, -0.54628694,  0.23837976,\n",
              "        -0.54628694, -0.54628694,  0.23837976,  0.23837976, -0.54628694,\n",
              "         0.23837976, -0.54628694, -0.54628694,  0.23837976,  0.23837976,\n",
              "        -0.54628694,  0.23837976,  0.23837976, -0.54628694, -0.54628694,\n",
              "         0.23837976,  0.23837976],\n",
              "       [-0.54628694,  0.23837976, -0.54628694, -0.54628694, -0.54628694,\n",
              "         0.23837976,  0.23837976, -0.54628694,  0.23837976, -0.54628694,\n",
              "        -0.54628694, -0.54628694,  0.23837976,  1.80771315,  0.23837976,\n",
              "        -0.54628694,  1.02304645,  0.23837976,  0.23837976,  0.23837976,\n",
              "         1.02304645,  0.23837976,  0.23837976,  0.23837976,  0.23837976,\n",
              "        -0.54628694,  1.02304645, -0.54628694,  1.02304645,  0.23837976,\n",
              "         0.23837976,  1.02304645,  0.23837976,  0.23837976,  0.23837976,\n",
              "         0.23837976, -0.54628694, -0.54628694, -0.54628694,  0.23837976,\n",
              "        -0.54628694,  0.23837976,  1.02304645,  0.23837976,  0.23837976,\n",
              "        -0.54628694, -0.54628694,  1.02304645, -0.54628694,  0.23837976,\n",
              "         4.16171325,  1.02304645, -0.54628694,  1.02304645, -0.54628694,\n",
              "         1.02304645, -0.54628694,  0.23837976,  0.23837976,  0.23837976,\n",
              "         1.80771315,  1.02304645,  0.23837976,  1.02304645,  1.02304645,\n",
              "         1.02304645,  0.23837976,  1.02304645,  1.02304645,  0.23837976,\n",
              "         1.02304645,  1.02304645,  1.02304645,  1.80771315,  1.02304645,\n",
              "         1.02304645,  0.23837976,  0.23837976,  0.23837976,  1.02304645,\n",
              "         1.02304645,  1.02304645,  1.02304645,  0.23837976,  0.23837976,\n",
              "         1.02304645,  1.02304645,  0.23837976,  0.23837976,  1.02304645,\n",
              "         0.23837976,  1.02304645,  1.02304645,  1.02304645,  0.23837976,\n",
              "         1.02304645,  0.23837976,  1.02304645,  0.23837976,  1.80771315,\n",
              "         1.02304645,  1.02304645,  1.02304645,  1.02304645,  0.23837976,\n",
              "         0.23837976,  0.23837976,  1.80771315,  1.02304645,  2.59237985,\n",
              "         1.80771315,  1.80771315,  1.80771315,  1.80771315,  1.80771315,\n",
              "         1.80771315,  1.80771315,  1.80771315,  1.80771315,  1.02304645,\n",
              "         1.02304645,  0.23837976,  1.02304645,  0.23837976,  0.23837976,\n",
              "         0.23837976,  0.23837976,  0.23837976,  1.02304645,  0.23837976,\n",
              "         0.23837976,  0.23837976,  0.23837976,  1.02304645,  0.23837976,\n",
              "         1.02304645,  1.02304645,  1.02304645,  0.23837976,  1.80771315,\n",
              "         0.23837976,  1.02304645,  0.23837976,  1.80771315,  1.02304645,\n",
              "         1.02304645,  0.23837976,  1.02304645,  1.02304645,  1.02304645,\n",
              "         1.02304645,  0.23837976,  1.02304645,  1.80771315,  0.23837976,\n",
              "         1.02304645,  1.80771315,  0.23837976,  1.02304645,  0.23837976,\n",
              "         0.23837976,  1.02304645,  1.02304645,  1.02304645,  1.02304645,\n",
              "         1.02304645,  0.23837976,  0.23837976,  1.02304645,  1.02304645,\n",
              "         0.23837976,  1.02304645,  1.02304645,  1.80771315,  1.02304645,\n",
              "         0.23837976,  0.23837976,  1.02304645,  1.02304645,  2.59237985,\n",
              "         1.02304645,  1.02304645,  0.23837976,  1.02304645,  1.02304645,\n",
              "         0.23837976,  1.80771315,  1.02304645,  1.02304645,  1.02304645,\n",
              "         1.80771315,  1.02304645,  1.02304645,  2.59237985,  0.23837976,\n",
              "         3.37704655,  1.02304645]])"
            ]
          },
          "metadata": {
            "tags": []
          },
          "execution_count": 38
        }
      ]
    },
    {
      "cell_type": "markdown",
      "metadata": {
        "id": "w8Q5b84vSm-W"
      },
      "source": [
        "Decimal Normalization"
      ]
    },
    {
      "cell_type": "code",
      "metadata": {
        "colab": {
          "base_uri": "https://localhost:8080/"
        },
        "id": "nVvVLKs1SqzY",
        "outputId": "b756597a-f36d-43bc-b017-43a95a6427e8"
      },
      "source": [
        "result=[]\n",
        "result.append(age/pow(10,2))\n",
        "result=np.array(result)\n",
        "result"
      ],
      "execution_count": null,
      "outputs": [
        {
          "output_type": "execute_result",
          "data": {
            "text/plain": [
              "array([[[0.18],\n",
              "        [0.17],\n",
              "        [0.15],\n",
              "        [0.15],\n",
              "        [0.16],\n",
              "        [0.16],\n",
              "        [0.16],\n",
              "        [0.17],\n",
              "        [0.15],\n",
              "        [0.15],\n",
              "        [0.15],\n",
              "        [0.15],\n",
              "        [0.15],\n",
              "        [0.15],\n",
              "        [0.15],\n",
              "        [0.16],\n",
              "        [0.16],\n",
              "        [0.16],\n",
              "        [0.17],\n",
              "        [0.16],\n",
              "        [0.15],\n",
              "        [0.15],\n",
              "        [0.16],\n",
              "        [0.16],\n",
              "        [0.15],\n",
              "        [0.16],\n",
              "        [0.15],\n",
              "        [0.15],\n",
              "        [0.16],\n",
              "        [0.16],\n",
              "        [0.15],\n",
              "        [0.15],\n",
              "        [0.15],\n",
              "        [0.15],\n",
              "        [0.16],\n",
              "        [0.15],\n",
              "        [0.15],\n",
              "        [0.16],\n",
              "        [0.15],\n",
              "        [0.15],\n",
              "        [0.16],\n",
              "        [0.15],\n",
              "        [0.15],\n",
              "        [0.15],\n",
              "        [0.16],\n",
              "        [0.15],\n",
              "        [0.16],\n",
              "        [0.16],\n",
              "        [0.15],\n",
              "        [0.15],\n",
              "        [0.16],\n",
              "        [0.15],\n",
              "        [0.15],\n",
              "        [0.15],\n",
              "        [0.15],\n",
              "        [0.16],\n",
              "        [0.15],\n",
              "        [0.15],\n",
              "        [0.15],\n",
              "        [0.16],\n",
              "        [0.16],\n",
              "        [0.16],\n",
              "        [0.16],\n",
              "        [0.16],\n",
              "        [0.15],\n",
              "        [0.16],\n",
              "        [0.15],\n",
              "        [0.16],\n",
              "        [0.15],\n",
              "        [0.15],\n",
              "        [0.16],\n",
              "        [0.15],\n",
              "        [0.15],\n",
              "        [0.16],\n",
              "        [0.16],\n",
              "        [0.15],\n",
              "        [0.15],\n",
              "        [0.16],\n",
              "        [0.17],\n",
              "        [0.16],\n",
              "        [0.15],\n",
              "        [0.15],\n",
              "        [0.15],\n",
              "        [0.15],\n",
              "        [0.15],\n",
              "        [0.15],\n",
              "        [0.16],\n",
              "        [0.15],\n",
              "        [0.16],\n",
              "        [0.16],\n",
              "        [0.16],\n",
              "        [0.15],\n",
              "        [0.16],\n",
              "        [0.16],\n",
              "        [0.15],\n",
              "        [0.15],\n",
              "        [0.16],\n",
              "        [0.16],\n",
              "        [0.16],\n",
              "        [0.16],\n",
              "        [0.16],\n",
              "        [0.16],\n",
              "        [0.15],\n",
              "        [0.15],\n",
              "        [0.15],\n",
              "        [0.15],\n",
              "        [0.15],\n",
              "        [0.16],\n",
              "        [0.15],\n",
              "        [0.16],\n",
              "        [0.15],\n",
              "        [0.16],\n",
              "        [0.16],\n",
              "        [0.15],\n",
              "        [0.15],\n",
              "        [0.16],\n",
              "        [0.15],\n",
              "        [0.16],\n",
              "        [0.17],\n",
              "        [0.15],\n",
              "        [0.15],\n",
              "        [0.15],\n",
              "        [0.16],\n",
              "        [0.16],\n",
              "        [0.16],\n",
              "        [0.15],\n",
              "        [0.15],\n",
              "        [0.19],\n",
              "        [0.18],\n",
              "        [0.16],\n",
              "        [0.15],\n",
              "        [0.15],\n",
              "        [0.17],\n",
              "        [0.16],\n",
              "        [0.15],\n",
              "        [0.15],\n",
              "        [0.17],\n",
              "        [0.16],\n",
              "        [0.16],\n",
              "        [0.15],\n",
              "        [0.15],\n",
              "        [0.16],\n",
              "        [0.15],\n",
              "        [0.16],\n",
              "        [0.17],\n",
              "        [0.15],\n",
              "        [0.15],\n",
              "        [0.15],\n",
              "        [0.16],\n",
              "        [0.15],\n",
              "        [0.18],\n",
              "        [0.16],\n",
              "        [0.15],\n",
              "        [0.19],\n",
              "        [0.17],\n",
              "        [0.15],\n",
              "        [0.17],\n",
              "        [0.18],\n",
              "        [0.16],\n",
              "        [0.16],\n",
              "        [0.17],\n",
              "        [0.15],\n",
              "        [0.16],\n",
              "        [0.17],\n",
              "        [0.17],\n",
              "        [0.16],\n",
              "        [0.16],\n",
              "        [0.16],\n",
              "        [0.16],\n",
              "        [0.16],\n",
              "        [0.16],\n",
              "        [0.16],\n",
              "        [0.17],\n",
              "        [0.16],\n",
              "        [0.16],\n",
              "        [0.17],\n",
              "        [0.16],\n",
              "        [0.17],\n",
              "        [0.16],\n",
              "        [0.17],\n",
              "        [0.16],\n",
              "        [0.16],\n",
              "        [0.17],\n",
              "        [0.17],\n",
              "        [0.16],\n",
              "        [0.17],\n",
              "        [0.16],\n",
              "        [0.16],\n",
              "        [0.17],\n",
              "        [0.17],\n",
              "        [0.16],\n",
              "        [0.17],\n",
              "        [0.17],\n",
              "        [0.16],\n",
              "        [0.16],\n",
              "        [0.17],\n",
              "        [0.17],\n",
              "        [0.16],\n",
              "        [0.17],\n",
              "        [0.16],\n",
              "        [0.16],\n",
              "        [0.16],\n",
              "        [0.17],\n",
              "        [0.17],\n",
              "        [0.16],\n",
              "        [0.17],\n",
              "        [0.16],\n",
              "        [0.16],\n",
              "        [0.16],\n",
              "        [0.17],\n",
              "        [0.19],\n",
              "        [0.17],\n",
              "        [0.16],\n",
              "        [0.18],\n",
              "        [0.17],\n",
              "        [0.17],\n",
              "        [0.17],\n",
              "        [0.18],\n",
              "        [0.17],\n",
              "        [0.17],\n",
              "        [0.17],\n",
              "        [0.17],\n",
              "        [0.16],\n",
              "        [0.18],\n",
              "        [0.16],\n",
              "        [0.18],\n",
              "        [0.17],\n",
              "        [0.17],\n",
              "        [0.18],\n",
              "        [0.17],\n",
              "        [0.17],\n",
              "        [0.17],\n",
              "        [0.17],\n",
              "        [0.16],\n",
              "        [0.16],\n",
              "        [0.16],\n",
              "        [0.17],\n",
              "        [0.16],\n",
              "        [0.17],\n",
              "        [0.18],\n",
              "        [0.17],\n",
              "        [0.17],\n",
              "        [0.16],\n",
              "        [0.16],\n",
              "        [0.18],\n",
              "        [0.16],\n",
              "        [0.17],\n",
              "        [0.22],\n",
              "        [0.18],\n",
              "        [0.16],\n",
              "        [0.18],\n",
              "        [0.16],\n",
              "        [0.18],\n",
              "        [0.16],\n",
              "        [0.17],\n",
              "        [0.17],\n",
              "        [0.17],\n",
              "        [0.19],\n",
              "        [0.18],\n",
              "        [0.17],\n",
              "        [0.18],\n",
              "        [0.18],\n",
              "        [0.18],\n",
              "        [0.17],\n",
              "        [0.18],\n",
              "        [0.18],\n",
              "        [0.17],\n",
              "        [0.18],\n",
              "        [0.18],\n",
              "        [0.18],\n",
              "        [0.19],\n",
              "        [0.18],\n",
              "        [0.18],\n",
              "        [0.17],\n",
              "        [0.17],\n",
              "        [0.17],\n",
              "        [0.18],\n",
              "        [0.18],\n",
              "        [0.18],\n",
              "        [0.18],\n",
              "        [0.17],\n",
              "        [0.17],\n",
              "        [0.18],\n",
              "        [0.18],\n",
              "        [0.17],\n",
              "        [0.17],\n",
              "        [0.18],\n",
              "        [0.17],\n",
              "        [0.18],\n",
              "        [0.18],\n",
              "        [0.18],\n",
              "        [0.17],\n",
              "        [0.18],\n",
              "        [0.17],\n",
              "        [0.18],\n",
              "        [0.17],\n",
              "        [0.19],\n",
              "        [0.18],\n",
              "        [0.18],\n",
              "        [0.18],\n",
              "        [0.18],\n",
              "        [0.17],\n",
              "        [0.17],\n",
              "        [0.17],\n",
              "        [0.19],\n",
              "        [0.18],\n",
              "        [0.2 ],\n",
              "        [0.19],\n",
              "        [0.19],\n",
              "        [0.19],\n",
              "        [0.19],\n",
              "        [0.19],\n",
              "        [0.19],\n",
              "        [0.19],\n",
              "        [0.19],\n",
              "        [0.19],\n",
              "        [0.18],\n",
              "        [0.18],\n",
              "        [0.17],\n",
              "        [0.18],\n",
              "        [0.17],\n",
              "        [0.17],\n",
              "        [0.17],\n",
              "        [0.17],\n",
              "        [0.17],\n",
              "        [0.18],\n",
              "        [0.17],\n",
              "        [0.17],\n",
              "        [0.17],\n",
              "        [0.17],\n",
              "        [0.18],\n",
              "        [0.17],\n",
              "        [0.18],\n",
              "        [0.18],\n",
              "        [0.18],\n",
              "        [0.17],\n",
              "        [0.19],\n",
              "        [0.17],\n",
              "        [0.18],\n",
              "        [0.17],\n",
              "        [0.19],\n",
              "        [0.18],\n",
              "        [0.18],\n",
              "        [0.17],\n",
              "        [0.18],\n",
              "        [0.18],\n",
              "        [0.18],\n",
              "        [0.18],\n",
              "        [0.17],\n",
              "        [0.18],\n",
              "        [0.19],\n",
              "        [0.17],\n",
              "        [0.18],\n",
              "        [0.19],\n",
              "        [0.17],\n",
              "        [0.18],\n",
              "        [0.17],\n",
              "        [0.17],\n",
              "        [0.18],\n",
              "        [0.18],\n",
              "        [0.18],\n",
              "        [0.18],\n",
              "        [0.18],\n",
              "        [0.17],\n",
              "        [0.17],\n",
              "        [0.18],\n",
              "        [0.18],\n",
              "        [0.17],\n",
              "        [0.18],\n",
              "        [0.18],\n",
              "        [0.19],\n",
              "        [0.18],\n",
              "        [0.17],\n",
              "        [0.17],\n",
              "        [0.18],\n",
              "        [0.18],\n",
              "        [0.2 ],\n",
              "        [0.18],\n",
              "        [0.18],\n",
              "        [0.17],\n",
              "        [0.18],\n",
              "        [0.18],\n",
              "        [0.17],\n",
              "        [0.19],\n",
              "        [0.18],\n",
              "        [0.18],\n",
              "        [0.18],\n",
              "        [0.19],\n",
              "        [0.18],\n",
              "        [0.18],\n",
              "        [0.2 ],\n",
              "        [0.17],\n",
              "        [0.21],\n",
              "        [0.18],\n",
              "        [0.19]]])"
            ]
          },
          "metadata": {
            "tags": []
          },
          "execution_count": 37
        }
      ]
    },
    {
      "cell_type": "code",
      "metadata": {
        "id": "HqyZc5lCVOTn"
      },
      "source": [
        ""
      ],
      "execution_count": null,
      "outputs": []
    }
  ]
}